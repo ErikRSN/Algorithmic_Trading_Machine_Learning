{
 "cells": [
  {
   "cell_type": "code",
   "execution_count": null,
   "id": "1a8cc4ab-4f94-4510-9b8b-373b30783de8",
   "metadata": {},
   "outputs": [],
   "source": [
    "a,b,c,d,f= 3,5,6.0,7.2,-3"
   ]
  },
  {
   "cell_type": "code",
   "execution_count": null,
   "id": "a26d321f-6265-4335-8aa4-2350f4a2588b",
   "metadata": {},
   "outputs": [],
   "source": [
    "%whos"
   ]
  },
  {
   "cell_type": "code",
   "execution_count": null,
   "id": "97fdf1e7-3962-4776-a1a4-558c6e426bba",
   "metadata": {},
   "outputs": [],
   "source": [
    "c=2+4j"
   ]
  },
  {
   "cell_type": "code",
   "execution_count": null,
   "id": "0e26c841-a97c-43db-a6f8-b98a2f454465",
   "metadata": {},
   "outputs": [],
   "source": [
    "print(type(c))"
   ]
  },
  {
   "cell_type": "markdown",
   "id": "8571609d-a914-462f-9d4e-b01e217274f3",
   "metadata": {},
   "source": [
    "#Operators"
   ]
  },
  {
   "cell_type": "code",
   "execution_count": null,
   "id": "195e1965-6bb4-4dcc-82a5-11135ff1f485",
   "metadata": {},
   "outputs": [],
   "source": [
    "sumOfaAandn=a+b"
   ]
  },
  {
   "cell_type": "code",
   "execution_count": null,
   "id": "5c4c3f2f-26bb-4ac3-8e0d-a6ed011ed4e1",
   "metadata": {},
   "outputs": [],
   "source": [
    "print(sumOfaAandn)"
   ]
  },
  {
   "cell_type": "code",
   "execution_count": null,
   "id": "e7c5ba8a-4a37-4ed8-a8bc-0117ea92f7c1",
   "metadata": {},
   "outputs": [],
   "source": [
    "type(sumOfaAandn)"
   ]
  },
  {
   "cell_type": "code",
   "execution_count": null,
   "id": "be06bfac-1416-4033-bb27-d1f2c912d9a7",
   "metadata": {},
   "outputs": [],
   "source": [
    "type(a+d)"
   ]
  },
  {
   "cell_type": "code",
   "execution_count": null,
   "id": "7d688d05-dd7b-482d-aa19-59cc366947a3",
   "metadata": {},
   "outputs": [],
   "source": [
    "s1 = \"hellow\"\n",
    "s2 = \"world\""
   ]
  },
  {
   "cell_type": "code",
   "execution_count": null,
   "id": "16cc71b4-297f-4357-9f28-5c9324e1a0b6",
   "metadata": {},
   "outputs": [],
   "source": [
    "s=s1+s2"
   ]
  },
  {
   "cell_type": "code",
   "execution_count": null,
   "id": "fd84b5ce-0630-4f90-a3bc-e09f81a51390",
   "metadata": {},
   "outputs": [],
   "source": [
    "print(s)"
   ]
  },
  {
   "cell_type": "code",
   "execution_count": null,
   "id": "62a04f53-8499-42f5-bb5e-9d4fd6c73730",
   "metadata": {},
   "outputs": [],
   "source": [
    "10//3"
   ]
  },
  {
   "cell_type": "code",
   "execution_count": null,
   "id": "ec21ede9-fe77-4938-a155-04b7fbe513a6",
   "metadata": {},
   "outputs": [],
   "source": [
    "10/3"
   ]
  },
  {
   "cell_type": "code",
   "execution_count": null,
   "id": "9f791fda-c41d-4774-811d-8c72c7a4dbb7",
   "metadata": {},
   "outputs": [],
   "source": [
    " 3x=5"
   ]
  },
  {
   "cell_type": "code",
   "execution_count": null,
   "id": "76feabb0-56b0-4c16-9c60-237470e1fe7f",
   "metadata": {},
   "outputs": [],
   "source": [
    "@y=4"
   ]
  },
  {
   "cell_type": "code",
   "execution_count": null,
   "id": "5f2b112e-e4e7-4933-97a9-2575bf4c3375",
   "metadata": {},
   "outputs": [],
   "source": [
    "*t=4"
   ]
  },
  {
   "cell_type": "code",
   "execution_count": null,
   "id": "2430196b-0d54-4b6d-bb99-4d099bf0ade9",
   "metadata": {},
   "outputs": [],
   "source": []
  },
  {
   "cell_type": "code",
   "execution_count": null,
   "id": "b176b9d2-c417-4f97-a388-e5f8f24b8c3d",
   "metadata": {},
   "outputs": [],
   "source": [
    "_e=6"
   ]
  },
  {
   "cell_type": "code",
   "execution_count": null,
   "id": "1d62a44c-3173-4ee6-be0f-0c1219272ac9",
   "metadata": {},
   "outputs": [],
   "source": [
    "startingTimeOfTheCoruce = 2"
   ]
  },
  {
   "cell_type": "code",
   "execution_count": null,
   "id": "40202ddd-0cd7-4398-b628-7b996b847e88",
   "metadata": {},
   "outputs": [],
   "source": [
    "%whos\n"
   ]
  },
  {
   "cell_type": "markdown",
   "id": "3325ee0e-b26f-4e77-b0ff-094c2a8beec2",
   "metadata": {},
   "source": [
    "# Comparisons"
   ]
  },
  {
   "cell_type": "code",
   "execution_count": null,
   "id": "4f79becf-19a3-45d6-ac5c-fa65bbd73922",
   "metadata": {},
   "outputs": [],
   "source": [
    "print(2<3)"
   ]
  },
  {
   "cell_type": "code",
   "execution_count": null,
   "id": "eaa7c87e-93f7-4336-a6d5-f8136c267f51",
   "metadata": {},
   "outputs": [],
   "source": [
    "c = 2<3"
   ]
  },
  {
   "cell_type": "code",
   "execution_count": null,
   "id": "96b4161b-5fa8-47db-855d-d14df1d12992",
   "metadata": {},
   "outputs": [],
   "source": [
    "type(c)"
   ]
  },
  {
   "cell_type": "code",
   "execution_count": null,
   "id": "68a0e05b-75b0-4c50-ae3a-c8524177c053",
   "metadata": {},
   "outputs": [],
   "source": [
    "d= 3==4"
   ]
  },
  {
   "cell_type": "code",
   "execution_count": null,
   "id": "b88c3740-d8dc-43f3-a75d-9863e56f2f0e",
   "metadata": {},
   "outputs": [],
   "source": [
    "type(d)"
   ]
  },
  {
   "cell_type": "code",
   "execution_count": null,
   "id": "a4e9ac2d-6086-4973-b3c3-d1145a595b22",
   "metadata": {},
   "outputs": [],
   "source": [
    "3==3.0"
   ]
  },
  {
   "cell_type": "code",
   "execution_count": null,
   "id": "43508e53-00db-4fa8-9920-e89fbd305cc7",
   "metadata": {},
   "outputs": [],
   "source": [
    "x=4\n",
    "y=9\n",
    "z=8.3"
   ]
  },
  {
   "cell_type": "code",
   "execution_count": null,
   "id": "e8d4a232-6e54-42b7-a87c-581a483fb4e2",
   "metadata": {},
   "outputs": [],
   "source": [
    "divmod(27,5)"
   ]
  },
  {
   "cell_type": "code",
   "execution_count": null,
   "id": "1edd0f64-f8e8-4a37-9b42-a287d331bc17",
   "metadata": {},
   "outputs": [],
   "source": [
    "G = divmod(34,10)"
   ]
  },
  {
   "cell_type": "code",
   "execution_count": null,
   "id": "14e9394c-5de4-4a6f-86bf-83cbc3c08640",
   "metadata": {},
   "outputs": [],
   "source": [
    "print(G)"
   ]
  },
  {
   "cell_type": "code",
   "execution_count": null,
   "id": "f45245c8-c3db-48cc-a572-45ed6dd16b7f",
   "metadata": {},
   "outputs": [],
   "source": [
    "print(isinstance(3.4,(float,int,str,complex)))"
   ]
  },
  {
   "cell_type": "code",
   "execution_count": null,
   "id": "72b1b642-6446-4438-9aac-5912f4a97d61",
   "metadata": {},
   "outputs": [],
   "source": [
    "pow(3,4)"
   ]
  },
  {
   "cell_type": "code",
   "execution_count": 1,
   "id": "48b05212-c89b-4bca-9a18-ad20896fdb31",
   "metadata": {},
   "outputs": [
    {
     "name": "stdin",
     "output_type": "stream",
     "text": [
      "enter a real number: 5.6\n"
     ]
    }
   ],
   "source": [
    "y = float(input(\"enter a real number:\"))"
   ]
  },
  {
   "cell_type": "code",
   "execution_count": 3,
   "id": "ff9ae36a-aba9-446c-ae32-c3b80eaec129",
   "metadata": {},
   "outputs": [
    {
     "data": {
      "text/plain": [
       "float"
      ]
     },
     "execution_count": 3,
     "metadata": {},
     "output_type": "execute_result"
    }
   ],
   "source": [
    "type(y)"
   ]
  },
  {
   "cell_type": "code",
   "execution_count": 9,
   "id": "fad86be3-7f74-4eb0-b974-a89318fdb77e",
   "metadata": {},
   "outputs": [
    {
     "name": "stdout",
     "output_type": "stream",
     "text": [
      "Help on built-in function pow in module builtins:\n",
      "\n",
      "pow(base, exp, mod=None)\n",
      "    Equivalent to base**exp with 2 arguments or base**exp % mod with 3 arguments\n",
      "\n",
      "    Some types, such as ints, are able to use a more efficient algorithm when\n",
      "    invoked using the three argument form.\n",
      "\n"
     ]
    }
   ],
   "source": [
    "help(pow)"
   ]
  },
  {
   "cell_type": "code",
   "execution_count": 26,
   "id": "ab57cf32-b4d7-4684-883b-5e339ef88ff5",
   "metadata": {},
   "outputs": [
    {
     "name": "stdin",
     "output_type": "stream",
     "text": [
      " 2\n",
      " 3\n"
     ]
    },
    {
     "name": "stdout",
     "output_type": "stream",
     "text": [
      "3\n",
      "b is biggeer than a \n"
     ]
    }
   ],
   "source": [
    "a = int(input())\n",
    "b = int(input())\n",
    "if a > b: \n",
    "    print(a)\n",
    "    print(\"a is biggeer than b \")\n",
    "\n",
    "if b>a: \n",
    "    print(b)\n",
    "    print(\"b is biggeer than a \")\n",
    "    "
   ]
  },
  {
   "cell_type": "code",
   "execution_count": 28,
   "id": "8a5d87f0-4d8f-4ae5-bb3f-32c54cd8946e",
   "metadata": {},
   "outputs": [
    {
     "name": "stdin",
     "output_type": "stream",
     "text": [
      " 2\n",
      " 3\n"
     ]
    },
    {
     "name": "stdout",
     "output_type": "stream",
     "text": [
      "3\n"
     ]
    }
   ],
   "source": [
    "a = int(input())\n",
    "b = int(input())\n",
    "\n",
    "if a>b:\n",
    "    print(a)\n",
    "else:\n",
    "    print(b)"
   ]
  },
  {
   "cell_type": "code",
   "execution_count": 46,
   "id": "229bcdba-1526-4bf2-a877-0f6dc4cd4b3e",
   "metadata": {},
   "outputs": [
    {
     "name": "stdout",
     "output_type": "stream",
     "text": [
      "a and b are equal\n",
      "Not in if\n"
     ]
    }
   ],
   "source": [
    "a = 10\n",
    "b = 10\n",
    "\n",
    "if a>b:\n",
    "    print(\"a is bigger then b\")\n",
    "elif a==b:\n",
    "    print(\"a and b are equal\")\n",
    "else:\n",
    "    print(\"b is bigger than a\")\n",
    "print(\"Not in if\")"
   ]
  },
  {
   "cell_type": "code",
   "execution_count": 52,
   "id": "da37e977-5d3d-48d0-9e31-263a87bb2a7a",
   "metadata": {},
   "outputs": [
    {
     "name": "stdin",
     "output_type": "stream",
     "text": [
      "Enter Marks: 60\n"
     ]
    },
    {
     "name": "stdout",
     "output_type": "stream",
     "text": [
      "Below Average\n"
     ]
    }
   ],
   "source": [
    "a = int(input(\"Enter Marks:\"))\n",
    "if a >= 85:\n",
    "    print(\" A Grade:\") \n",
    "elif (a < 85) and (a>= 80): \n",
    "    print(\"A - Grade\")\n",
    "elif (a < 80) and (a >= 75):\n",
    "    print(\"B Grade\") \n",
    "elif a < 75 and a >= 70: \n",
    "    print (\"B- Grade\")\n",
    "else:\n",
    "    print(\"Below Average\") \n",
    "    \n",
    "\n",
    "           \n",
    "\n",
    "\n",
    "        "
   ]
  },
  {
   "cell_type": "code",
   "execution_count": 58,
   "id": "4e068347-5d70-44d6-8030-1768be844bf1",
   "metadata": {},
   "outputs": [
    {
     "name": "stdout",
     "output_type": "stream",
     "text": [
      ">10\n"
     ]
    }
   ],
   "source": [
    "a = 13 \n",
    "if a>10:\n",
    "    print(\">10\")\n",
    "elif not (a>10):\n",
    "    print(\"Else Part\")\n",
    "    "
   ]
  },
  {
   "cell_type": "code",
   "execution_count": 79,
   "id": "c61c104f-e78a-4f1a-8f64-19fa5eca71c1",
   "metadata": {},
   "outputs": [
    {
     "name": "stdin",
     "output_type": "stream",
     "text": [
      " 15\n"
     ]
    },
    {
     "name": "stdout",
     "output_type": "stream",
     "text": [
      ">10\n",
      "Inside the top if\n",
      "<=20\n",
      "inside the else part of nested if\n",
      "Outside all ifs\n"
     ]
    }
   ],
   "source": [
    "a = int(input())\n",
    "if a>10:\n",
    "    print(\">10\")\n",
    "    print(\"Inside the top if\")\n",
    "    if a > 20: \n",
    "        print(\">20\")\n",
    "        print(\"inside the nesteed if\")\n",
    "        if a>30:\n",
    "            print(\">30\")\n",
    "            print(\"inside the nested if of then ested if statement\") \n",
    "    else: \n",
    "        print(\"<=20\")\n",
    "        print(\"inside the else part of nested if\")\n",
    "print(\"Outside all ifs\")\n",
    "\n"
   ]
  },
  {
   "cell_type": "code",
   "execution_count": 102,
   "id": "34808dcd-8e44-41cb-a10c-c8618c24f5ad",
   "metadata": {},
   "outputs": [
    {
     "name": "stdin",
     "output_type": "stream",
     "text": [
      "Enter a real number:  -8.9\n"
     ]
    },
    {
     "name": "stdout",
     "output_type": "stream",
     "text": [
      "-8\n"
     ]
    }
   ],
   "source": [
    "\"\"\"\n",
    "USer will enter a frlaitng porint number lets say 238.915. \n",
    "The task is to find out the intereger protion before the point(in this case 238) \n",
    "and then check if that interege portion is an even number or not? \n",
    "\"\"\"\n",
    "\n",
    "x = float(input(\"Enter a real number: \"))\n",
    "y = round(x)\n",
    "if x>0:\n",
    "    if y>x:\n",
    "        intPortion = y-1 \n",
    "    else:\n",
    "        intPortion = y\n",
    "    print(intPortion)\n",
    "else:\n",
    "    if y<x:\n",
    "        intPortion = y+1\n",
    "    else: \n",
    "        intPortion = y\n",
    "print(intPortion)\n",
    "\n",
    "\n",
    "    "
   ]
  },
  {
   "cell_type": "code",
   "execution_count": 110,
   "id": "6ab3157a-fd98-4129-8fa0-9c7f78ac6c33",
   "metadata": {},
   "outputs": [
    {
     "name": "stdin",
     "output_type": "stream",
     "text": [
      " 5\n"
     ]
    },
    {
     "name": "stdout",
     "output_type": "stream",
     "text": [
      "1\n",
      "This is iteration number:\n",
      "4\n",
      "This is iteration number:\n",
      "9\n",
      "This is iteration number:\n",
      "16\n",
      "This is iteration number:\n",
      "Loop done\n"
     ]
    }
   ],
   "source": [
    "n = int(input())\n",
    "i=1\n",
    "while i<n: \n",
    "    print(i**2)\n",
    "    print(\"This is iteration number:\")\n",
    "    i+=1  # i =i+1\n",
    "print(\"Loop done\")"
   ]
  },
  {
   "cell_type": "code",
   "execution_count": null,
   "id": "b06e5c70-87d1-40bd-9bdb-0093f3878a88",
   "metadata": {},
   "outputs": [],
   "source": []
  }
 ],
 "metadata": {
  "kernelspec": {
   "display_name": "Python 3 (ipykernel)",
   "language": "python",
   "name": "python3"
  },
  "language_info": {
   "codemirror_mode": {
    "name": "ipython",
    "version": 3
   },
   "file_extension": ".py",
   "mimetype": "text/x-python",
   "name": "python",
   "nbconvert_exporter": "python",
   "pygments_lexer": "ipython3",
   "version": "3.12.7"
  }
 },
 "nbformat": 4,
 "nbformat_minor": 5
}
